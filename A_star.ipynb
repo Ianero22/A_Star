{
  "nbformat": 4,
  "nbformat_minor": 0,
  "metadata": {
    "colab": {
      "provenance": [],
      "mount_file_id": "1hE9k0xk1tFjjFCYxnBB0xXaDxynkyEjX",
      "authorship_tag": "ABX9TyPMh+p/KA4end1GabO5S9N4",
      "include_colab_link": true
    },
    "kernelspec": {
      "name": "python3",
      "display_name": "Python 3"
    },
    "language_info": {
      "name": "python"
    }
  },
  "cells": [
    {
      "cell_type": "markdown",
      "metadata": {
        "id": "view-in-github",
        "colab_type": "text"
      },
      "source": [
        "<a href=\"https://colab.research.google.com/github/Ianero22/A_Star/blob/main/A_star.ipynb\" target=\"_parent\"><img src=\"https://colab.research.google.com/assets/colab-badge.svg\" alt=\"Open In Colab\"/></a>"
      ]
    },
    {
      "cell_type": "code",
      "execution_count": null,
      "metadata": {
        "id": "jgZWSeje80ou"
      },
      "outputs": [],
      "source": [
        "import numpy as np"
      ]
    },
    {
      "cell_type": "code",
      "source": [
        "import numpy as np\n",
        "\n",
        "\n",
        "\n",
        "\n",
        "\n",
        "#def zrekontruuj_trase(przyszedlZ, obecny_wierzcholek):\n",
        "    #trasa\n",
        "Cel = np.loadtxt(\"1.txt\", skiprows=1, max_rows=1)\n",
        "\n",
        "Start= int(Cel[0])\n",
        "Meta = int(Cel[1])\n",
        "def zrekonstruuj_trasę(przyszedłZ, obecny_wierzchołek):\n",
        "        trasa=[obecny_wierzcholek]\n",
        "        while (przyszedłZ):\n",
        "            obecny_wierzchołek = przyszedłZ[obecny_wierzchołek]\n",
        "            trasa.insert(0, obecny_wierzchołek)\n",
        "        return trasa\n",
        "def Astar(Start,Meta):\n",
        "    #Wierzcholki = np.loadtxt(\"1.txt\", max_rows=1)\n",
        "    Wierzcholki = np.array([[0,0],[0,1],[1,0],[1,1]])\n",
        "    W = Wierzcholki.shape[0]\n",
        "\n",
        "    przyszedlZ = []\n",
        "    obecny_wierzcholek = 0\n",
        "    rozpatrywanie = [Start]\n",
        "    przejrzane = []\n",
        "\n",
        "    fx=np.ones([1,W])*10000\n",
        "    fx[0,Start-1]=int(Start)\n",
        "    gx=np.ones([1,W])*10000\n",
        "    gx[0,Start-1]=0\n",
        "    hx=np.ones([1,W])\n",
        "    tymczasoweG = gx=np.ones([1,W+1])*10000\n",
        "\n",
        "    sciezki = np.loadtxt(\"1.txt\", skiprows=2)\n",
        "    #print(\"sciezk\",sciezki.shape)\n",
        "    sasiedzi = sciezki*0\n",
        "    #print(sasiedzi)\n",
        "    for i in range(sciezki.shape[0]): # z\n",
        "        for j in range(sciezki.shape[1]):# do\n",
        "            if sciezki[i-1,j-1] >0:\n",
        "              sasiedzi[i-1,j-1]=1\n",
        "\n",
        "    print(\"sasiedzi\", sasiedzi)\n",
        "    while rozpatrywanie:\n",
        "        x = min(rozpatrywanie) #aktualnie rozpatrywany wierzchołek\n",
        "        print(x)\n",
        "        if x == Meta:\n",
        "            return zrekonstruuj_trasę(przyszedłZ, Meta)\n",
        "        rozpatrywanie.pop()\n",
        "        przejrzane.append(x)\n",
        "\n",
        "        for y in sasiedzi[x-1]:\n",
        "\n",
        "          #print(\"sasiedzi x\",y)\n",
        "\n",
        "    #sciezki = np.array([[0,1,0,1.414],[1,0,1.414,0],[0,1.414,0,1],[1.414,0,1,0]])\n",
        "    #s = sciezki.size\n",
        "\n",
        "    print(\"Start\",Start,\"\\n\")\n",
        "    print(\"rozpatrywanie\",rozpatrywanie,\"\\n\")\n",
        "    print(Wierzcholki,\"\\n\",Cel,\"\\n\",sciezki)\n",
        "    print(\"fx\",fx,\"\\n gx \",gx,\"\\n hx \",hx)\n",
        "\n",
        "#print(\"\\n sciezka z 1 do 2\", sciezki[0,3])\n",
        "\n",
        "# for j in range(W):\n",
        "#     for i in range(sciezki[j].shape[0]):\n",
        "\n",
        "#         if sciezki[j,i]>0:\n",
        "#             print(\"wszystkie mozliwe sciezki z \", j+1)\n",
        "#             print(\"\\n\",i+1)\n",
        "\n",
        "\n",
        "\n",
        "Astar(Start,Meta)\n",
        "\n",
        "#Astar()"
      ],
      "metadata": {
        "id": "5XKwL01D9Eo_",
        "colab": {
          "base_uri": "https://localhost:8080/",
          "height": 106
        },
        "outputId": "7b2cc46a-7aa4-4d9b-ac7a-68de683c0986"
      },
      "execution_count": 19,
      "outputs": [
        {
          "output_type": "error",
          "ename": "IndentationError",
          "evalue": "expected an indented block after 'for' statement on line 53 (ipython-input-106835372.py, line 59)",
          "traceback": [
            "\u001b[0;36m  File \u001b[0;32m\"/tmp/ipython-input-106835372.py\"\u001b[0;36m, line \u001b[0;32m59\u001b[0m\n\u001b[0;31m    print(\"Start\",Start,\"\\n\")\u001b[0m\n\u001b[0m    ^\u001b[0m\n\u001b[0;31mIndentationError\u001b[0m\u001b[0;31m:\u001b[0m expected an indented block after 'for' statement on line 53\n"
          ]
        }
      ]
    },
    {
      "cell_type": "code",
      "source": [],
      "metadata": {
        "id": "0FXVAmMhGGEW"
      },
      "execution_count": null,
      "outputs": []
    }
  ]
}