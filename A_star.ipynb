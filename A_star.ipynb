{
  "nbformat": 4,
  "nbformat_minor": 0,
  "metadata": {
    "colab": {
      "provenance": [],
      "mount_file_id": "1hE9k0xk1tFjjFCYxnBB0xXaDxynkyEjX",
      "authorship_tag": "ABX9TyPHOt7hAD6VNT8r8neYixAL",
      "include_colab_link": true
    },
    "kernelspec": {
      "name": "python3",
      "display_name": "Python 3"
    },
    "language_info": {
      "name": "python"
    }
  },
  "cells": [
    {
      "cell_type": "markdown",
      "metadata": {
        "id": "view-in-github",
        "colab_type": "text"
      },
      "source": [
        "<a href=\"https://colab.research.google.com/github/Ianero22/A_Star/blob/main/A_star.ipynb\" target=\"_parent\"><img src=\"https://colab.research.google.com/assets/colab-badge.svg\" alt=\"Open In Colab\"/></a>"
      ]
    },
    {
      "cell_type": "markdown",
      "source": [],
      "metadata": {
        "id": "paBEcO5sRpfe"
      }
    },
    {
      "cell_type": "code",
      "execution_count": 10,
      "metadata": {
        "id": "jgZWSeje80ou",
        "colab": {
          "base_uri": "https://localhost:8080/"
        },
        "outputId": "d059f8eb-30e1-42d0-ffbb-94819c502443"
      },
      "outputs": [
        {
          "output_type": "stream",
          "name": "stdout",
          "text": [
            "{1: 2, 2: 4}\n"
          ]
        }
      ],
      "source": [
        "dictionary = {1:2, 2:4}\n",
        "print(dictionary)"
      ]
    },
    {
      "cell_type": "code",
      "source": [
        "import numpy as np\n",
        "import math\n",
        "\n",
        "\n",
        "plik=\"1.txt\"\n",
        "\n",
        "\n",
        "\n",
        "Cel = np.loadtxt(plik, skiprows=1, max_rows=1)\n",
        "\n",
        "Start= int(Cel[0])-1\n",
        "Meta = int(Cel[1])-1\n",
        "print(\"meta \", Meta)\n",
        "def Astar(Start,Meta):\n",
        "    #Wierzcholki = np.loadtxt(\"1.txt\", max_rows=1)\n",
        "    Wierzcholki = np.array([[0,0],[0,1],[1,0],[1,1]])\n",
        "    W = Wierzcholki.shape[0]\n",
        "\n",
        "    przyszedlZ = {}\n",
        "    obecny_wierzcholek = 0\n",
        "    rozpatrywanie = [Start]\n",
        "    przejrzane = []\n",
        "\n",
        "    fx=np.ones([1,W])*10000\n",
        "    fx[0,Start]=int(Start)\n",
        "    gx=np.ones([1,W])*10000\n",
        "    gx[0,Start]=0\n",
        "    g_tym=np.ones([1,W])\n",
        "    # g_tym[0,Start-1]=0\n",
        "    hx=np.ones([1,W])\n",
        "\n",
        "    def zrekonstruuj_trasę(przyszedłZ, obecny_wierzchołek):\n",
        "        print(\"\\n\\n---rekonstrukcja trasy------\",obecny_wierzchołek)\n",
        "        trasa=[obecny_wierzchołek]\n",
        "        print(\"trasa: \", trasa)\n",
        "        print(\"przysedzl z \", przyszedłZ)\n",
        "        print(\"obecny wirzcholek \", obecny_wierzcholek)\n",
        "        while (przyszedłZ[obecny_wierzchołek]):\n",
        "            obecny_wierzchołek = przyszedłZ[obecny_wierzchołek]\n",
        "            trasa.insert(0,obecny_wierzchołek)\n",
        "            print(\"przyszedl z obecny wierzcholek\", przyszedłZ[obecny_wierzchołek])\n",
        "            print(\"obecny wiertzcholek \", obecny_wierzchołek)\n",
        "            print(\"trasa\", trasa)\n",
        "            print(\"----\")\n",
        "        return trasa\n",
        "\n",
        "    sciezki = np.loadtxt(plik, skiprows=2)\n",
        "    #print(\"sciezk\",sciezki.shape)\n",
        "    sasiedzi = sciezki*0\n",
        "    #print(sasiedzi)\n",
        "    for i in range(sciezki.shape[0]): # z\n",
        "        for j in range(sciezki.shape[1]):# do\n",
        "            if sciezki[i,j] >0:\n",
        "                sasiedzi[i,j]=1\n",
        "    print(\"sasiedzi\", sasiedzi[0,:])\n",
        "    print(\"--------------\")\n",
        "    while rozpatrywanie:\n",
        "        print(\"rozpatrywanie na start petli while \", rozpatrywanie)\n",
        "        x = min(rozpatrywanie) #aktualnie rozpatrywany wierzchołek\n",
        "        print(\"x w petli while: \",x)\n",
        "        if (x == Meta):\n",
        "            print(\"x = meta\", x)\n",
        "            return zrekonstruuj_trasę(przyszedlZ, Meta)\n",
        "        rozpatrywanie.remove(x)\n",
        "        przejrzane.append(x)\n",
        "        print(\"sasiedzi x=\",x, sasiedzi[x,:])\n",
        "        for y in range(sasiedzi[x,:].size):\n",
        "          if(sasiedzi[x,y]>0):\n",
        "            print(\"x \",x,\"\\ny \",y)\n",
        "            print(\"sasiedzi x,y >0 \", sasiedzi[x,y])\n",
        "            g_tym[0,y] = gx[0,x] + sciezki[x,y]\n",
        "            print(\"gtym[y]\",g_tym[0,y],\"\\ngx[y] \",gx[0,y])\n",
        "            if(g_tym[0,y]<gx[0,y]):\n",
        "              przyszedlZ.update({y:x})\n",
        "              gx[0,y] = g_tym[0,y]\n",
        "              fx[0,y] = gx[0,y]+hx[0,y]\n",
        "              print(\"rozpatrywane \",rozpatrywanie)\n",
        "              if (y not in rozpatrywanie):\n",
        "                print(\"jezeli y nie w rozpatrywane \",rozpatrywanie)\n",
        "                rozpatrywanie.append(y)\n",
        "                print(\"dodany y: \", y, \"\\nnowe rozpatrywnie : \", rozpatrywanie)\n",
        "        print(\"przyszedl z \", przyszedlZ)\n",
        "        print(\"fx\",fx,\"\\n gx \",gx,\"\\n hx \",hx, \"\\n g_tym \",g_tym)\n",
        "        print(\"KONIEC PETLI WHILE\\n----------------\")\n",
        "\n",
        "    #sciezki = np.array([[0,1,0,1.414],[1,0,1.414,0],[0,1.414,0,1],[1.414,0,1,0]])\n",
        "    #s = sciezki.size\n",
        "\n",
        "    print(\"\\n\\n----------\\nStart\",Start,\"\\n\")\n",
        "    print(\"rozpatrywanie\",rozpatrywanie,\"\\n\")\n",
        "    print(\"przyszedl z \", przyszedlZ)\n",
        "    print(Wierzcholki,\"\\n\",Cel,\"\\n\",sciezki)\n",
        "    print(\"fx\",fx,\"\\n gx \",gx,\"\\n hx \",hx, \"\\n g_tym \",g_tym)\n",
        "\n",
        "\n",
        "print(\"Algorytm Astar\",Astar(Start,Meta))\n",
        "\n",
        "#Astar()"
      ],
      "metadata": {
        "id": "5XKwL01D9Eo_",
        "colab": {
          "base_uri": "https://localhost:8080/"
        },
        "outputId": "7036084b-5e97-4547-b72d-9037f601d187"
      },
      "execution_count": 112,
      "outputs": [
        {
          "output_type": "stream",
          "name": "stdout",
          "text": [
            "meta  3\n",
            "sasiedzi [0. 1. 0. 1.]\n",
            "--------------\n",
            "rozpatrywanie na start petli while  [0]\n",
            "x w petli while:  0\n",
            "sasiedzi x= 0 [0. 1. 0. 1.]\n",
            "x  0 \n",
            "y  1\n",
            "sasiedzi x,y >0  1.0\n",
            "gtym[y] 1.0 \n",
            "gx[y]  10000.0\n",
            "rozpatrywane  []\n",
            "jezeli y nie w rozpatrywane  []\n",
            "dodany y:  1 \n",
            "nowe rozpatrywnie :  [1]\n",
            "x  0 \n",
            "y  3\n",
            "sasiedzi x,y >0  1.0\n",
            "gtym[y] 1.414 \n",
            "gx[y]  10000.0\n",
            "rozpatrywane  [1]\n",
            "jezeli y nie w rozpatrywane  [1]\n",
            "dodany y:  3 \n",
            "nowe rozpatrywnie :  [1, 3]\n",
            "przyszedl z  {1: 0, 3: 0}\n",
            "fx [[0.000e+00 2.000e+00 1.000e+04 2.414e+00]] \n",
            " gx  [[0.000e+00 1.000e+00 1.000e+04 1.414e+00]] \n",
            " hx  [[1. 1. 1. 1.]] \n",
            " g_tym  [[1.    1.    1.    1.414]]\n",
            "KONIEC PETLI WHILE\n",
            "----------------\n",
            "rozpatrywanie na start petli while  [1, 3]\n",
            "x w petli while:  1\n",
            "sasiedzi x= 1 [1. 0. 1. 0.]\n",
            "x  1 \n",
            "y  0\n",
            "sasiedzi x,y >0  1.0\n",
            "gtym[y] 2.0 \n",
            "gx[y]  0.0\n",
            "x  1 \n",
            "y  2\n",
            "sasiedzi x,y >0  1.0\n",
            "gtym[y] 2.4139999999999997 \n",
            "gx[y]  10000.0\n",
            "rozpatrywane  [3]\n",
            "jezeli y nie w rozpatrywane  [3]\n",
            "dodany y:  2 \n",
            "nowe rozpatrywnie :  [3, 2]\n",
            "przyszedl z  {1: 0, 3: 0, 2: 1}\n",
            "fx [[0.    2.    3.414 2.414]] \n",
            " gx  [[0.    1.    2.414 1.414]] \n",
            " hx  [[1. 1. 1. 1.]] \n",
            " g_tym  [[2.    1.    2.414 1.414]]\n",
            "KONIEC PETLI WHILE\n",
            "----------------\n",
            "rozpatrywanie na start petli while  [3, 2]\n",
            "x w petli while:  2\n",
            "sasiedzi x= 2 [0. 1. 0. 1.]\n",
            "x  2 \n",
            "y  1\n",
            "sasiedzi x,y >0  1.0\n",
            "gtym[y] 3.8279999999999994 \n",
            "gx[y]  1.0\n",
            "x  2 \n",
            "y  3\n",
            "sasiedzi x,y >0  1.0\n",
            "gtym[y] 3.4139999999999997 \n",
            "gx[y]  1.414\n",
            "przyszedl z  {1: 0, 3: 0, 2: 1}\n",
            "fx [[0.    2.    3.414 2.414]] \n",
            " gx  [[0.    1.    2.414 1.414]] \n",
            " hx  [[1. 1. 1. 1.]] \n",
            " g_tym  [[2.    3.828 2.414 3.414]]\n",
            "KONIEC PETLI WHILE\n",
            "----------------\n",
            "rozpatrywanie na start petli while  [3]\n",
            "x w petli while:  3\n",
            "x = meta 3\n",
            "\n",
            "\n",
            "---rekonstrukcja trasy------ 3\n",
            "trasa:  [3]\n",
            "przysedzl z  {1: 0, 3: 0, 2: 1}\n",
            "obecny wirzcholek  0\n",
            "Algorytm Astar [3]\n"
          ]
        }
      ]
    },
    {
      "cell_type": "code",
      "source": [],
      "metadata": {
        "id": "0FXVAmMhGGEW"
      },
      "execution_count": null,
      "outputs": []
    }
  ]
}