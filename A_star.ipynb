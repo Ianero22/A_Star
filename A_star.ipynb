{
  "nbformat": 4,
  "nbformat_minor": 0,
  "metadata": {
    "colab": {
      "provenance": [],
      "mount_file_id": "1hE9k0xk1tFjjFCYxnBB0xXaDxynkyEjX",
      "authorship_tag": "ABX9TyN7l++cBK6QSCb/AgLuQGew",
      "include_colab_link": true
    },
    "kernelspec": {
      "name": "python3",
      "display_name": "Python 3"
    },
    "language_info": {
      "name": "python"
    }
  },
  "cells": [
    {
      "cell_type": "markdown",
      "metadata": {
        "id": "view-in-github",
        "colab_type": "text"
      },
      "source": [
        "<a href=\"https://colab.research.google.com/github/Ianero22/A_Star/blob/main/A_star.ipynb\" target=\"_parent\"><img src=\"https://colab.research.google.com/assets/colab-badge.svg\" alt=\"Open In Colab\"/></a>"
      ]
    },
    {
      "cell_type": "markdown",
      "source": [],
      "metadata": {
        "id": "paBEcO5sRpfe"
      }
    },
    {
      "cell_type": "code",
      "execution_count": 10,
      "metadata": {
        "id": "jgZWSeje80ou",
        "outputId": "d059f8eb-30e1-42d0-ffbb-94819c502443",
        "colab": {
          "base_uri": "https://localhost:8080/"
        }
      },
      "outputs": [
        {
          "output_type": "stream",
          "name": "stdout",
          "text": [
            "{1: 2, 2: 4}\n"
          ]
        }
      ],
      "source": [
        "dictionary = {1:2, 2:4}\n",
        "print(dictionary)"
      ]
    },
    {
      "cell_type": "code",
      "source": [
        "import numpy as np\n",
        "import math\n",
        "\n",
        "#def zrekontruuj_trase(przyszedlZ, obecny_wierzcholek):\n",
        "    #trasa\n",
        "Cel = np.loadtxt(\"1.txt\", skiprows=1, max_rows=1)\n",
        "\n",
        "Start= int(Cel[0])\n",
        "Meta = int(Cel[1])\n",
        "def Astar(Start,Meta):\n",
        "    #Wierzcholki = np.loadtxt(\"1.txt\", max_rows=1)\n",
        "    Wierzcholki = np.array([[0,0],[0,1],[1,0],[1,1]])\n",
        "    W = Wierzcholki.shape[0]\n",
        "\n",
        "    przyszedlZ = {}\n",
        "    obecny_wierzcholek = 0\n",
        "    rozpatrywanie = [Start]\n",
        "    przejrzane = []\n",
        "\n",
        "    fx=np.ones([1,W])*10000\n",
        "    fx[0,Start-1]=int(Start)\n",
        "    gx=np.ones([1,W])*10000\n",
        "    gx[0,Start-1]=0\n",
        "    g_tym=np.ones([1,W])*10000\n",
        "    # g_tym[0,Start-1]=0\n",
        "    hx=np.ones([1,W])\n",
        "\n",
        "    def zrekonstruuj_trasę(przyszedłZ, obecny_wierzchołek):\n",
        "        trasa=[obecny_wierzcholek]\n",
        "        while (przyszedłZ):\n",
        "            obecny_wierzchołek = przyszedłZ[obecny_wierzchołek]\n",
        "            trasa.insert(0, obecny_wierzchołek)\n",
        "        return trasa\n",
        "\n",
        "    sciezki = np.loadtxt(\"1.txt\", skiprows=2)\n",
        "    #print(\"sciezk\",sciezki.shape)\n",
        "    sasiedzi = sciezki*0\n",
        "    #print(sasiedzi)\n",
        "    for i in range(sciezki.shape[0]): # z\n",
        "        for j in range(sciezki.shape[1]):# do\n",
        "            if sciezki[i,j] >0:\n",
        "                sasiedzi[i,j]=1\n",
        "    print(\"sasiedzi\", sasiedzi[0,:])\n",
        "    while rozpatrywanie:\n",
        "        x = min(rozpatrywanie) #aktualnie rozpatrywany wierzchołek\n",
        "        print(x)\n",
        "        if x == Meta:\n",
        "            return zrekonstruuj_trasę(przyszedłZ, Meta)\n",
        "        rozpatrywanie.pop()\n",
        "        przejrzane.append(x)\n",
        "        print(\"sasiedzi x \", sasiedzi[x-1,:])\n",
        "        for y in range(sasiedzi[x-1,:].size):\n",
        "          if(sasiedzi[x-1,y]>0):\n",
        "            print(\"y \",y+1)\n",
        "            g_tym[0,y] = gx[0,x-1] + sciezki[x-1,y]\n",
        "            if(g_tym[0,y]<gx[0,y]):\n",
        "              przyszedlZ=x\n",
        "\n",
        "\n",
        "    #sciezki = np.array([[0,1,0,1.414],[1,0,1.414,0],[0,1.414,0,1],[1.414,0,1,0]])\n",
        "    #s = sciezki.size\n",
        "\n",
        "    print(\"Start\",Start,\"\\n\")\n",
        "    print(\"rozpatrywanie\",rozpatrywanie,\"\\n\")\n",
        "    print(Wierzcholki,\"\\n\",Cel,\"\\n\",sciezki)\n",
        "    print(\"fx\",fx,\"\\n gx \",gx,\"\\n hx \",hx, \"\\n g_tym \",g_tym)\n",
        "\n",
        "\n",
        "Astar(Start,Meta)\n",
        "\n",
        "#Astar()"
      ],
      "metadata": {
        "id": "5XKwL01D9Eo_",
        "colab": {
          "base_uri": "https://localhost:8080/"
        },
        "outputId": "4a32c03c-ff0e-4bf2-9936-a500c4ff2750"
      },
      "execution_count": 32,
      "outputs": [
        {
          "output_type": "stream",
          "name": "stdout",
          "text": [
            "sasiedzi [0. 1. 0. 1.]\n",
            "1\n",
            "sasiedzi x  [0. 1. 0. 1.]\n",
            "y  2\n",
            "y  4\n",
            "Start 1 \n",
            "\n",
            "rozpatrywanie [] \n",
            "\n",
            "[[0 0]\n",
            " [0 1]\n",
            " [1 0]\n",
            " [1 1]] \n",
            " [1. 4.] \n",
            " [[0.    1.    0.    1.414]\n",
            " [1.    0.    1.414 0.   ]\n",
            " [0.    1.414 0.    1.   ]\n",
            " [1.414 0.    1.    0.   ]]\n",
            "fx [[1.e+00 1.e+04 1.e+04 1.e+04]] \n",
            " gx  [[    0. 10000. 10000. 10000.]] \n",
            " hx  [[1. 1. 1. 1.]] \n",
            " g_tym  [[1.000e+04 1.000e+00 1.000e+04 1.414e+00]]\n"
          ]
        }
      ]
    },
    {
      "cell_type": "code",
      "source": [],
      "metadata": {
        "id": "0FXVAmMhGGEW"
      },
      "execution_count": null,
      "outputs": []
    }
  ]
}