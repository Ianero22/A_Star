{
  "nbformat": 4,
  "nbformat_minor": 0,
  "metadata": {
    "colab": {
      "provenance": [],
      "mount_file_id": "1hE9k0xk1tFjjFCYxnBB0xXaDxynkyEjX",
      "authorship_tag": "ABX9TyOIm2lzG1Nv/SSWEdi398dw",
      "include_colab_link": true
    },
    "kernelspec": {
      "name": "python3",
      "display_name": "Python 3"
    },
    "language_info": {
      "name": "python"
    }
  },
  "cells": [
    {
      "cell_type": "markdown",
      "metadata": {
        "id": "view-in-github",
        "colab_type": "text"
      },
      "source": [
        "<a href=\"https://colab.research.google.com/github/Ianero22/A_Star/blob/main/A_star.ipynb\" target=\"_parent\"><img src=\"https://colab.research.google.com/assets/colab-badge.svg\" alt=\"Open In Colab\"/></a>"
      ]
    },
    {
      "cell_type": "code",
      "execution_count": null,
      "metadata": {
        "id": "jgZWSeje80ou"
      },
      "outputs": [],
      "source": [
        "import numpy as np"
      ]
    },
    {
      "cell_type": "code",
      "source": [
        "f = open('1.txt', 'r')\n",
        "#file = f.readlines()\n",
        "\n",
        "list = np.array()\n",
        "\n",
        "points = f.readline()\n",
        "dest = f.readline()\n",
        "file = f.readlines()\n",
        "\n",
        "list(1,:) =\n",
        "\n",
        "#for line in\n",
        "\n",
        "print(file)"
      ],
      "metadata": {
        "id": "5XKwL01D9Eo_",
        "colab": {
          "base_uri": "https://localhost:8080/"
        },
        "outputId": "939629bf-c86d-4e5d-88b5-3143d4061e90"
      },
      "execution_count": 7,
      "outputs": [
        {
          "output_type": "stream",
          "name": "stdout",
          "text": [
            "['0.000 1.000 0.000 1.414\\n', '1.000 0.000 1.414 0.000\\n', '0.000 1.414 0.000 1.000\\n', '1.414 0.000 1.000 0.000']\n"
          ]
        }
      ]
    }
  ]
}