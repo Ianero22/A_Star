{
  "nbformat": 4,
  "nbformat_minor": 0,
  "metadata": {
    "colab": {
      "provenance": [],
      "mount_file_id": "1hE9k0xk1tFjjFCYxnBB0xXaDxynkyEjX",
      "authorship_tag": "ABX9TyNd+u4EUhpncRacPNF4gdzh",
      "include_colab_link": true
    },
    "kernelspec": {
      "name": "python3",
      "display_name": "Python 3"
    },
    "language_info": {
      "name": "python"
    }
  },
  "cells": [
    {
      "cell_type": "markdown",
      "metadata": {
        "id": "view-in-github",
        "colab_type": "text"
      },
      "source": [
        "<a href=\"https://colab.research.google.com/github/Ianero22/A_Star/blob/main/A_star.ipynb\" target=\"_parent\"><img src=\"https://colab.research.google.com/assets/colab-badge.svg\" alt=\"Open In Colab\"/></a>"
      ]
    },
    {
      "cell_type": "markdown",
      "source": [],
      "metadata": {
        "id": "paBEcO5sRpfe"
      }
    },
    {
      "cell_type": "code",
      "execution_count": 10,
      "metadata": {
        "id": "jgZWSeje80ou",
        "colab": {
          "base_uri": "https://localhost:8080/"
        },
        "outputId": "d059f8eb-30e1-42d0-ffbb-94819c502443"
      },
      "outputs": [
        {
          "output_type": "stream",
          "name": "stdout",
          "text": [
            "{1: 2, 2: 4}\n"
          ]
        }
      ],
      "source": [
        "dictionary = {1:2, 2:4}\n",
        "print(dictionary)"
      ]
    },
    {
      "cell_type": "code",
      "source": [
        "file = open(\"1.txt\")\n",
        "file.seek(0)\n",
        "s=file.readline()\n",
        "print(s)\n",
        "\n",
        "file.close()\n",
        "points=np.zeros([4,2])\n",
        "print(points)\n",
        "\n",
        "import re\n",
        "coord = re.findall(r'\\d+', s)\n",
        "for i in range(0, len(coord), 2):\n",
        "  num1=int(coord[i])\n",
        "  num2=int(coord[i+1])\n",
        "  print(\"number\",num1, num2)\n",
        "\n",
        "  points[i,i+1] = [num1, num2]\n",
        "\n",
        "\n",
        "print(coord)\n",
        "# nodes = np.loadtxt(\"1.txt\", max_rows=1)"
      ],
      "metadata": {
        "colab": {
          "base_uri": "https://localhost:8080/",
          "height": 419
        },
        "id": "kMmfe7wNA5e-",
        "outputId": "af292495-1cad-4915-8f67-49b8629ba1e1"
      },
      "execution_count": 195,
      "outputs": [
        {
          "output_type": "stream",
          "name": "stdout",
          "text": [
            "(0, 0) (0, 1) (1, 0) (1, 1)\n",
            "\n",
            "[[0. 0.]\n",
            " [0. 0.]\n",
            " [0. 0.]\n",
            " [0. 0.]]\n",
            "number 0 0\n"
          ]
        },
        {
          "output_type": "error",
          "ename": "ValueError",
          "evalue": "setting an array element with a sequence.",
          "traceback": [
            "\u001b[0;31m---------------------------------------------------------------------------\u001b[0m",
            "\u001b[0;31mTypeError\u001b[0m                                 Traceback (most recent call last)",
            "\u001b[0;31mTypeError\u001b[0m: float() argument must be a string or a real number, not 'list'",
            "\nThe above exception was the direct cause of the following exception:\n",
            "\u001b[0;31mValueError\u001b[0m                                Traceback (most recent call last)",
            "\u001b[0;32m/tmp/ipython-input-2439724144.py\u001b[0m in \u001b[0;36m<cell line: 0>\u001b[0;34m()\u001b[0m\n\u001b[1;32m     14\u001b[0m   \u001b[0mnum2\u001b[0m\u001b[0;34m=\u001b[0m\u001b[0mint\u001b[0m\u001b[0;34m(\u001b[0m\u001b[0mcoord\u001b[0m\u001b[0;34m[\u001b[0m\u001b[0mi\u001b[0m\u001b[0;34m+\u001b[0m\u001b[0;36m1\u001b[0m\u001b[0;34m]\u001b[0m\u001b[0;34m)\u001b[0m\u001b[0;34m\u001b[0m\u001b[0;34m\u001b[0m\u001b[0m\n\u001b[1;32m     15\u001b[0m   \u001b[0mprint\u001b[0m\u001b[0;34m(\u001b[0m\u001b[0;34m\"number\"\u001b[0m\u001b[0;34m,\u001b[0m\u001b[0mnum1\u001b[0m\u001b[0;34m,\u001b[0m \u001b[0mnum2\u001b[0m\u001b[0;34m)\u001b[0m\u001b[0;34m\u001b[0m\u001b[0;34m\u001b[0m\u001b[0m\n\u001b[0;32m---> 16\u001b[0;31m   \u001b[0mpoints\u001b[0m\u001b[0;34m[\u001b[0m\u001b[0mi\u001b[0m\u001b[0;34m]\u001b[0m\u001b[0;34m[\u001b[0m\u001b[0mi\u001b[0m\u001b[0;34m+\u001b[0m\u001b[0;36m1\u001b[0m\u001b[0;34m]\u001b[0m \u001b[0;34m=\u001b[0m \u001b[0;34m[\u001b[0m\u001b[0mnum1\u001b[0m\u001b[0;34m,\u001b[0m \u001b[0mnum2\u001b[0m\u001b[0;34m]\u001b[0m\u001b[0;34m\u001b[0m\u001b[0;34m\u001b[0m\u001b[0m\n\u001b[0m\u001b[1;32m     17\u001b[0m \u001b[0;34m\u001b[0m\u001b[0m\n\u001b[1;32m     18\u001b[0m \u001b[0;34m\u001b[0m\u001b[0m\n",
            "\u001b[0;31mValueError\u001b[0m: setting an array element with a sequence."
          ]
        }
      ]
    },
    {
      "cell_type": "code",
      "source": [
        "import numpy as np\n",
        "import math\n",
        "\n",
        "\n",
        "plik=\"2.txt\"\n",
        "\n",
        "\n",
        "\n",
        "Cel = np.loadtxt(plik, skiprows=1, max_rows=1)\n",
        "\n",
        "Start= int(Cel[0])-1\n",
        "Meta = int(Cel[1])-1\n",
        "print(\"meta \", Meta)\n",
        "def Astar(Start,Meta):\n",
        "    #Wierzcholki = np.loadtxt(\"1.txt\", max_rows=1)\n",
        "    Wierzcholki = np.array([[0,0],[0,1],[1,0],[1,1]])\n",
        "    W = Wierzcholki.shape[0]\n",
        "\n",
        "    przyszedlZ = {}\n",
        "    obecny_wierzcholek = 0\n",
        "    rozpatrywanie = [Start]\n",
        "    przejrzane = []\n",
        "\n",
        "    fx=np.ones([1,W])*10000\n",
        "    fx[0,Start]=int(Start)\n",
        "    gx=np.ones([1,W])*10000\n",
        "    gx[0,Start]=0\n",
        "    g_tym=np.ones([1,W])\n",
        "    # g_tym[0,Start-1]=0\n",
        "    hx=np.ones([1,W])\n",
        "\n",
        "    def zrekonstruuj_trasę(przyszedłZ, obecny_wierzchołek):\n",
        "        print(\"\\n\\n---rekonstrukcja trasy------\",obecny_wierzchołek)\n",
        "        trasa=[obecny_wierzchołek]\n",
        "        print(\"trasa: \", trasa)\n",
        "        print(\"przysedzl z \", przyszedłZ)\n",
        "        print(\"obecny wirzcholek \", obecny_wierzcholek)\n",
        "        while (przyszedłZ[obecny_wierzchołek]):\n",
        "            obecny_wierzchołek = przyszedłZ[obecny_wierzchołek]\n",
        "            trasa.insert(0,obecny_wierzchołek)\n",
        "            print(\"przyszedl z obecny wierzcholek\", przyszedłZ[obecny_wierzchołek])\n",
        "            print(\"obecny wiertzcholek \", obecny_wierzchołek)\n",
        "            print(\"trasa\", trasa)\n",
        "            print(\"----\")\n",
        "        return trasa\n",
        "\n",
        "    sciezki = np.loadtxt(plik, skiprows=2)\n",
        "    #print(\"sciezk\",sciezki.shape)\n",
        "    sasiedzi = sciezki*0\n",
        "    #print(sasiedzi)\n",
        "    for i in range(sciezki.shape[0]): # z\n",
        "        for j in range(sciezki.shape[1]):# do\n",
        "            if sciezki[i,j] >0:\n",
        "                sasiedzi[i,j]=1\n",
        "    print(\"sasiedzi\", sasiedzi[0,:])\n",
        "    print(\"--------------\")\n",
        "    while rozpatrywanie:\n",
        "        print(\"rozpatrywanie na start petli while \", rozpatrywanie)\n",
        "        x = min(rozpatrywanie) #aktualnie rozpatrywany wierzchołek\n",
        "        print(\"x w petli while: \",x)\n",
        "        if (x == Meta):\n",
        "            print(\"x = meta\", x)\n",
        "            return zrekonstruuj_trasę(przyszedlZ, Meta)\n",
        "        rozpatrywanie.remove(x)\n",
        "        przejrzane.append(x)\n",
        "        print(\"sasiedzi x=\",x, sasiedzi[x,:])\n",
        "        for y in range(sasiedzi[x,:].size):\n",
        "          if(sasiedzi[x,y]>0):\n",
        "            print(\"x \",x,\"\\ny \",y)\n",
        "            print(\"sasiedzi x,y >0 \", sasiedzi[x,y])\n",
        "            g_tym[0,y] = gx[0,x] + sciezki[x,y]\n",
        "            print(\"gtym[y]\",g_tym[0,y],\"\\ngx[y] \",gx[0,y])\n",
        "            if(g_tym[0,y]<gx[0,y]):\n",
        "              przyszedlZ.update({y:x})\n",
        "              gx[0,y] = g_tym[0,y]\n",
        "              fx[0,y] = gx[0,y]+hx[0,y]\n",
        "              print(\"rozpatrywane \",rozpatrywanie)\n",
        "              if (y not in rozpatrywanie):\n",
        "                print(\"jezeli y nie w rozpatrywane \",rozpatrywanie)\n",
        "                rozpatrywanie.append(y)\n",
        "                print(\"dodany y: \", y, \"\\nnowe rozpatrywnie : \", rozpatrywanie)\n",
        "        print(\"przyszedl z \", przyszedlZ)\n",
        "        print(\"fx\",fx,\"\\n gx \",gx,\"\\n hx \",hx, \"\\n g_tym \",g_tym)\n",
        "        print(\"KONIEC PETLI WHILE\\n----------------\")\n",
        "\n",
        "    #sciezki = np.array([[0,1,0,1.414],[1,0,1.414,0],[0,1.414,0,1],[1.414,0,1,0]])\n",
        "    #s = sciezki.size\n",
        "\n",
        "    print(\"\\n\\n----------\\nStart\",Start,\"\\n\")\n",
        "    print(\"rozpatrywanie\",rozpatrywanie,\"\\n\")\n",
        "    print(\"przyszedl z \", przyszedlZ)\n",
        "    print(Wierzcholki,\"\\n\",Cel,\"\\n\",sciezki)\n",
        "    print(\"fx\",fx,\"\\n gx \",gx,\"\\n hx \",hx, \"\\n g_tym \",g_tym)\n",
        "\n",
        "\n",
        "print(\"Algorytm Astar\",Astar(Start,Meta))\n",
        "\n",
        "#Astar()"
      ],
      "metadata": {
        "id": "5XKwL01D9Eo_",
        "colab": {
          "base_uri": "https://localhost:8080/",
          "height": 644
        },
        "outputId": "b71eb600-d4e4-49b2-811b-c8b3e6a85a06"
      },
      "execution_count": 114,
      "outputs": [
        {
          "output_type": "stream",
          "name": "stdout",
          "text": [
            "meta  8\n",
            "sasiedzi [0. 0. 1. 0. 0. 0. 0. 1. 0.]\n",
            "--------------\n",
            "rozpatrywanie na start petli while  [0]\n",
            "x w petli while:  0\n",
            "sasiedzi x= 0 [0. 0. 1. 0. 0. 0. 0. 1. 0.]\n",
            "x  0 \n",
            "y  2\n",
            "sasiedzi x,y >0  1.0\n",
            "gtym[y] 2.0 \n",
            "gx[y]  10000.0\n",
            "rozpatrywane  []\n",
            "jezeli y nie w rozpatrywane  []\n",
            "dodany y:  2 \n",
            "nowe rozpatrywnie :  [2]\n",
            "x  0 \n",
            "y  7\n",
            "sasiedzi x,y >0  1.0\n"
          ]
        },
        {
          "output_type": "error",
          "ename": "IndexError",
          "evalue": "index 7 is out of bounds for axis 1 with size 4",
          "traceback": [
            "\u001b[0;31m---------------------------------------------------------------------------\u001b[0m",
            "\u001b[0;31mIndexError\u001b[0m                                Traceback (most recent call last)",
            "\u001b[0;32m/tmp/ipython-input-2175879523.py\u001b[0m in \u001b[0;36m<cell line: 0>\u001b[0;34m()\u001b[0m\n\u001b[1;32m     94\u001b[0m \u001b[0;34m\u001b[0m\u001b[0m\n\u001b[1;32m     95\u001b[0m \u001b[0;34m\u001b[0m\u001b[0m\n\u001b[0;32m---> 96\u001b[0;31m \u001b[0mprint\u001b[0m\u001b[0;34m(\u001b[0m\u001b[0;34m\"Algorytm Astar\"\u001b[0m\u001b[0;34m,\u001b[0m\u001b[0mAstar\u001b[0m\u001b[0;34m(\u001b[0m\u001b[0mStart\u001b[0m\u001b[0;34m,\u001b[0m\u001b[0mMeta\u001b[0m\u001b[0;34m)\u001b[0m\u001b[0;34m)\u001b[0m\u001b[0;34m\u001b[0m\u001b[0;34m\u001b[0m\u001b[0m\n\u001b[0m\u001b[1;32m     97\u001b[0m \u001b[0;34m\u001b[0m\u001b[0m\n\u001b[1;32m     98\u001b[0m \u001b[0;31m#Astar()\u001b[0m\u001b[0;34m\u001b[0m\u001b[0;34m\u001b[0m\u001b[0m\n",
            "\u001b[0;32m/tmp/ipython-input-2175879523.py\u001b[0m in \u001b[0;36mAstar\u001b[0;34m(Start, Meta)\u001b[0m\n\u001b[1;32m     69\u001b[0m             \u001b[0mprint\u001b[0m\u001b[0;34m(\u001b[0m\u001b[0;34m\"x \"\u001b[0m\u001b[0;34m,\u001b[0m\u001b[0mx\u001b[0m\u001b[0;34m,\u001b[0m\u001b[0;34m\"\\ny \"\u001b[0m\u001b[0;34m,\u001b[0m\u001b[0my\u001b[0m\u001b[0;34m)\u001b[0m\u001b[0;34m\u001b[0m\u001b[0;34m\u001b[0m\u001b[0m\n\u001b[1;32m     70\u001b[0m             \u001b[0mprint\u001b[0m\u001b[0;34m(\u001b[0m\u001b[0;34m\"sasiedzi x,y >0 \"\u001b[0m\u001b[0;34m,\u001b[0m \u001b[0msasiedzi\u001b[0m\u001b[0;34m[\u001b[0m\u001b[0mx\u001b[0m\u001b[0;34m,\u001b[0m\u001b[0my\u001b[0m\u001b[0;34m]\u001b[0m\u001b[0;34m)\u001b[0m\u001b[0;34m\u001b[0m\u001b[0;34m\u001b[0m\u001b[0m\n\u001b[0;32m---> 71\u001b[0;31m             \u001b[0mg_tym\u001b[0m\u001b[0;34m[\u001b[0m\u001b[0;36m0\u001b[0m\u001b[0;34m,\u001b[0m\u001b[0my\u001b[0m\u001b[0;34m]\u001b[0m \u001b[0;34m=\u001b[0m \u001b[0mgx\u001b[0m\u001b[0;34m[\u001b[0m\u001b[0;36m0\u001b[0m\u001b[0;34m,\u001b[0m\u001b[0mx\u001b[0m\u001b[0;34m]\u001b[0m \u001b[0;34m+\u001b[0m \u001b[0msciezki\u001b[0m\u001b[0;34m[\u001b[0m\u001b[0mx\u001b[0m\u001b[0;34m,\u001b[0m\u001b[0my\u001b[0m\u001b[0;34m]\u001b[0m\u001b[0;34m\u001b[0m\u001b[0;34m\u001b[0m\u001b[0m\n\u001b[0m\u001b[1;32m     72\u001b[0m             \u001b[0mprint\u001b[0m\u001b[0;34m(\u001b[0m\u001b[0;34m\"gtym[y]\"\u001b[0m\u001b[0;34m,\u001b[0m\u001b[0mg_tym\u001b[0m\u001b[0;34m[\u001b[0m\u001b[0;36m0\u001b[0m\u001b[0;34m,\u001b[0m\u001b[0my\u001b[0m\u001b[0;34m]\u001b[0m\u001b[0;34m,\u001b[0m\u001b[0;34m\"\\ngx[y] \"\u001b[0m\u001b[0;34m,\u001b[0m\u001b[0mgx\u001b[0m\u001b[0;34m[\u001b[0m\u001b[0;36m0\u001b[0m\u001b[0;34m,\u001b[0m\u001b[0my\u001b[0m\u001b[0;34m]\u001b[0m\u001b[0;34m)\u001b[0m\u001b[0;34m\u001b[0m\u001b[0;34m\u001b[0m\u001b[0m\n\u001b[1;32m     73\u001b[0m             \u001b[0;32mif\u001b[0m\u001b[0;34m(\u001b[0m\u001b[0mg_tym\u001b[0m\u001b[0;34m[\u001b[0m\u001b[0;36m0\u001b[0m\u001b[0;34m,\u001b[0m\u001b[0my\u001b[0m\u001b[0;34m]\u001b[0m\u001b[0;34m<\u001b[0m\u001b[0mgx\u001b[0m\u001b[0;34m[\u001b[0m\u001b[0;36m0\u001b[0m\u001b[0;34m,\u001b[0m\u001b[0my\u001b[0m\u001b[0;34m]\u001b[0m\u001b[0;34m)\u001b[0m\u001b[0;34m:\u001b[0m\u001b[0;34m\u001b[0m\u001b[0;34m\u001b[0m\u001b[0m\n",
            "\u001b[0;31mIndexError\u001b[0m: index 7 is out of bounds for axis 1 with size 4"
          ]
        }
      ]
    },
    {
      "cell_type": "code",
      "source": [],
      "metadata": {
        "id": "0FXVAmMhGGEW"
      },
      "execution_count": null,
      "outputs": []
    }
  ]
}